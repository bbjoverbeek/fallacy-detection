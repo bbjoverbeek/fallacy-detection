{
 "cells": [
  {
   "cell_type": "code",
   "execution_count": 1,
   "id": "9b086c70-7e43-4a05-90da-ba6de82b2ec4",
   "metadata": {},
   "outputs": [],
   "source": [
    "import transformers\n",
    "from transformers import pipeline\n",
    "import torch"
   ]
  },
  {
   "cell_type": "code",
   "execution_count": 2,
   "id": "e0dfe578-4fb5-41b8-a088-75f6d575fb69",
   "metadata": {},
   "outputs": [
    {
     "name": "stdout",
     "output_type": "stream",
     "text": [
      "Using device: cuda\n"
     ]
    }
   ],
   "source": [
    "device = 'cuda' if torch.cuda.is_available() else 'cpu'\n",
    "print(f\"Using device: {device}\")\n",
    "\n",
    "# Load the model and tokenizer\n",
    "def load_model(model_name=\"mosaicml/mpt-7b-instruct\"):\n",
    "    # Load the configuration with trust_remote_code set to True\n",
    "    config = transformers.AutoConfig.from_pretrained(model_name, trust_remote_code=True)\n",
    "    \n",
    "    tokenizer = transformers.AutoTokenizer.from_pretrained(model_name)\n",
    "    model = transformers.AutoModelForCausalLM.from_pretrained(model_name, config=config, torch_dtype=torch.float32, trust_remote_code=True)\n",
    "    model.to(device)\n",
    "    return model, tokenizer\n",
    "\n",
    "# Setup the pipeline\n",
    "def setup_pipeline(model, tokenizer):\n",
    "    pipe = pipeline('text-generation', model=model, tokenizer=tokenizer, device=0)\n",
    "    return pipe\n",
    "\n",
    "# Function to generate text based on prompts\n",
    "# Function to generate text based on prompts\n",
    "def generate_text(prompt, pipe, max_tokens=100):\n",
    "    response = pipe(\n",
    "        prompt, \n",
    "        max_length=max_tokens, \n",
    "        num_return_sequences=1\n",
    "    )\n",
    "    return response[0]['generated_text']\n"
   ]
  },
  {
   "cell_type": "code",
   "execution_count": null,
   "id": "56abd847-2c2e-453c-95a5-8aa712e175b0",
   "metadata": {},
   "outputs": [
    {
     "name": "stderr",
     "output_type": "stream",
     "text": [
      "/root/.cache/huggingface/modules/transformers_modules/mosaicml/mpt-7b-instruct/7bf8dfd6c819cdb82e2f9d0b251f79ddd33314fb/configuration_mpt.py:114: UserWarning: alibi or rope is turned on, setting `learned_pos_emb` to `False.`\n",
      "  warnings.warn(f'alibi or rope is turned on, setting `learned_pos_emb` to `False.`')\n",
      "/root/.cache/huggingface/modules/transformers_modules/mosaicml/mpt-7b-instruct/7bf8dfd6c819cdb82e2f9d0b251f79ddd33314fb/configuration_mpt.py:141: UserWarning: If not using a Prefix Language Model, we recommend setting \"attn_impl\" to \"flash\" instead of \"triton\".\n",
      "  warnings.warn(UserWarning('If not using a Prefix Language Model, we recommend setting \"attn_impl\" to \"flash\" instead of \"triton\".'))\n",
      "Special tokens have been added in the vocabulary, make sure the associated word embeddings are fine-tuned or trained.\n"
     ]
    }
   ],
   "source": [
    "# Load model and tokenizer\n",
    "model_name = \"mosaicml/mpt-7b-instruct\"  # You can change this to your specific model\n",
    "model, tokenizer = load_model(model_name)\n",
    "pipe = setup_pipeline(model, tokenizer)"
   ]
  },
  {
   "cell_type": "code",
   "execution_count": 24,
   "id": "fda0776d-8bd1-4874-8957-c9f2f6d705a6",
   "metadata": {},
   "outputs": [
    {
     "name": "stderr",
     "output_type": "stream",
     "text": [
      "Setting `pad_token_id` to `eos_token_id`:0 for open-end generation.\n"
     ]
    },
    {
     "name": "stdout",
     "output_type": "stream",
     "text": [
      "Prompt: The potential fallacious argument types are:\n",
      "- slippery slope\n",
      "- ad hominem\n",
      "- appeal to (false) authority\n",
      "- X appeal to majority\n",
      "- No fallicy\n",
      "\n",
      "Which one of these 5 fallacious argument types does the following text contain?\n",
      "Text: \"You know, this man has no credibility on the issue.\"\n",
      "\n",
      "answer:\n",
      "\n",
      "Also explain here how you got to your answer.\n",
      "explanation:\n",
      "Generated Text:\n",
      " The potential fallacious argument types are:\n",
      "- slippery slope\n",
      "- ad hominem\n",
      "- appeal to (false) authority\n",
      "- X appeal to majority\n",
      "- No fallicy\n",
      "\n",
      "Which one of these 5 fallacious argument types does the following text contain?\n",
      "Text: \"You know, this man has no credibility on the issue.\"\n",
      "\n",
      "answer:\n",
      "\n",
      "Also explain here how you got to your answer.\n",
      "explanation:\n",
      "\n",
      "The text contains an ad hominem fallacy.\n"
     ]
    }
   ],
   "source": [
    "# Import necessary libraries\n",
    "import os\n",
    "\n",
    "# Define the function to read the prompt from a file\n",
    "def read_prompt_from_file(file_path):\n",
    "    with open(file_path, 'r') as file:\n",
    "        prompt = file.read().strip()\n",
    "    return prompt\n",
    "\n",
    "# Define the path to the prompt file\n",
    "prompt_file_path = 'prompt.txt'\n",
    "\n",
    "# Read the prompt from the file\n",
    "prompt = read_prompt_from_file(prompt_file_path)\n",
    "\n",
    "# Print the prompt to verify\n",
    "print(\"Prompt:\", prompt)\n",
    "\n",
    "# Assuming 'generate_text' and 'pipe' are defined elsewhere in your code\n",
    "output = generate_text(prompt, pipe, max_tokens=200)  # Increase max_tokens if needed\n",
    "\n",
    "# Print the generated text\n",
    "print(\"Generated Text:\\n\", output)\n"
   ]
  },
  {
   "cell_type": "code",
   "execution_count": null,
   "id": "390fc047-fd12-4455-8782-d9acbc7eddbc",
   "metadata": {},
   "outputs": [],
   "source": []
  },
  {
   "cell_type": "code",
   "execution_count": null,
   "id": "47463b77-4985-4bf0-9591-de277f10d035",
   "metadata": {},
   "outputs": [],
   "source": []
  }
 ],
 "metadata": {
  "kernelspec": {
   "display_name": "Python 3 (ipykernel)",
   "language": "python",
   "name": "python3"
  },
  "language_info": {
   "codemirror_mode": {
    "name": "ipython",
    "version": 3
   },
   "file_extension": ".py",
   "mimetype": "text/x-python",
   "name": "python",
   "nbconvert_exporter": "python",
   "pygments_lexer": "ipython3",
   "version": "3.10.13"
  }
 },
 "nbformat": 4,
 "nbformat_minor": 5
}
