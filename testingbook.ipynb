{
 "cells": [
  {
   "cell_type": "code",
   "id": "9b086c70-7e43-4a05-90da-ba6de82b2ec4",
   "metadata": {
    "ExecuteTime": {
     "end_time": "2024-05-28T10:13:31.981623Z",
     "start_time": "2024-05-28T10:13:30.091113Z"
    }
   },
   "source": [
    "import transformers\n",
    "from transformers import pipeline\n",
    "import torch"
   ],
   "outputs": [],
   "execution_count": 1
  },
  {
   "cell_type": "code",
   "id": "e0dfe578-4fb5-41b8-a088-75f6d575fb69",
   "metadata": {
    "ExecuteTime": {
     "end_time": "2024-05-28T10:13:33.542334Z",
     "start_time": "2024-05-28T10:13:33.456838Z"
    }
   },
   "source": [
    "device = 'cuda' if torch.cuda.is_available() else 'cpu'\n",
    "print(f\"Using device: {device}\")\n",
    "\n",
    "# Load the model and tokenizer\n",
    "def load_model(model_name=\"mosaicml/mpt-7b-instruct\"):\n",
    "    # Load the configuration with trust_remote_code set to True\n",
    "    config = transformers.AutoConfig.from_pretrained(model_name, trust_remote_code=True)\n",
    "    \n",
    "    tokenizer = transformers.AutoTokenizer.from_pretrained(model_name)\n",
    "    model = transformers.AutoModelForCausalLM.from_pretrained(model_name, config=config, torch_dtype=torch.bfloat16, trust_remote_code=True)\n",
    "    model.to(device)\n",
    "    return model, tokenizer\n",
    "\n",
    "# Setup the pipeline\n",
    "def setup_pipeline(model, tokenizer):\n",
    "    pipe = pipeline('text-generation', model=model, tokenizer=tokenizer, device=0)\n",
    "    return pipe\n",
    "\n",
    "# Function to generate text based on prompts\n",
    "# Function to generate text based on prompts\n",
    "def generate_text(prompt, pipe, max_tokens=100):\n",
    "    response = pipe(\n",
    "        prompt, \n",
    "        max_length=max_tokens, \n",
    "        num_return_sequences=1\n",
    "    )\n",
    "    return response[0]['generated_text']\n"
   ],
   "outputs": [
    {
     "name": "stdout",
     "output_type": "stream",
     "text": [
      "Using device: cuda\n"
     ]
    }
   ],
   "execution_count": 2
  },
  {
   "cell_type": "code",
   "id": "56abd847-2c2e-453c-95a5-8aa712e175b0",
   "metadata": {
    "ExecuteTime": {
     "end_time": "2024-05-28T10:13:48.616627Z",
     "start_time": "2024-05-28T10:13:39.601285Z"
    }
   },
   "source": [
    "# Load model and tokenizer\n",
    "model_name = \"mosaicml/mpt-7b-instruct\"  # You can change this to your specific model\n",
    "model, tokenizer = load_model(model_name)\n",
    "pipe = setup_pipeline(model, tokenizer)"
   ],
   "outputs": [
    {
     "name": "stderr",
     "output_type": "stream",
     "text": [
      "/root/.cache/huggingface/modules/transformers_modules/mosaicml/mpt-7b-instruct/7bf8dfd6c819cdb82e2f9d0b251f79ddd33314fb/configuration_mpt.py:114: UserWarning: alibi or rope is turned on, setting `learned_pos_emb` to `False.`\n",
      "  warnings.warn(f'alibi or rope is turned on, setting `learned_pos_emb` to `False.`')\n",
      "/root/.cache/huggingface/modules/transformers_modules/mosaicml/mpt-7b-instruct/7bf8dfd6c819cdb82e2f9d0b251f79ddd33314fb/configuration_mpt.py:141: UserWarning: If not using a Prefix Language Model, we recommend setting \"attn_impl\" to \"flash\" instead of \"triton\".\n",
      "  warnings.warn(UserWarning('If not using a Prefix Language Model, we recommend setting \"attn_impl\" to \"flash\" instead of \"triton\".'))\n",
      "Special tokens have been added in the vocabulary, make sure the associated word embeddings are fine-tuned or trained.\n"
     ]
    },
    {
     "data": {
      "text/plain": [
       "Loading checkpoint shards:   0%|          | 0/2 [00:00<?, ?it/s]"
      ],
      "application/vnd.jupyter.widget-view+json": {
       "version_major": 2,
       "version_minor": 0,
       "model_id": "ea49ca4113e144219a96581a4d5c7dfa"
      }
     },
     "metadata": {},
     "output_type": "display_data"
    }
   ],
   "execution_count": 3
  },
  {
   "cell_type": "code",
   "id": "fda0776d-8bd1-4874-8957-c9f2f6d705a6",
   "metadata": {
    "ExecuteTime": {
     "end_time": "2024-05-28T10:41:19.234728Z",
     "start_time": "2024-05-28T10:41:13.848473Z"
    }
   },
   "source": [
    "# Import necessary libraries\n",
    "import os\n",
    "\n",
    "INSTRUCTION_KEY = \"### Instruction:\"\n",
    "RESPONSE_KEY = \"### Response:\"\n",
    "INTRO_BLURB = \"Below is an instruction that describes a task. Write a response that appropriately completes the request.\"\n",
    "PROMPT_FOR_GENERATION_FORMAT = \"\"\"{intro}\n",
    "{instruction_key}\n",
    "{instruction}\n",
    "{response_key}\n",
    "\"\"\".format(\n",
    "    intro=INTRO_BLURB,\n",
    "    instruction_key=INSTRUCTION_KEY,\n",
    "    instruction=\"{instruction}\",\n",
    "    response_key=RESPONSE_KEY,\n",
    ")\n",
    "\n",
    "# Define the function to read the prompt from a file\n",
    "def read_prompt_from_file(file_path):\n",
    "    with open(file_path, 'r') as file:\n",
    "        prompt = file.read().strip()\n",
    "    return prompt\n",
    "\n",
    "# Define the path to the prompt file\n",
    "prompt_file_path = 'prompt.txt'\n",
    "\n",
    "# Read the prompt from the file\n",
    "instruction = read_prompt_from_file(prompt_file_path)\n",
    "\n",
    "# Format the prompt according to the specified format\n",
    "formatted_prompt = PROMPT_FOR_GENERATION_FORMAT.format(instruction=instruction)\n",
    "\n",
    "# Print the formatted prompt to verify\n",
    "print(\"Formatted Prompt:\\n\", formatted_prompt)\n",
    "\n",
    "# Assuming 'generate_text' and 'pipe' are defined elsewhere in your code\n",
    "output = generate_text(formatted_prompt, pipe, max_tokens=2000)  # Increase max_tokens if needed\n",
    "\n",
    "# Print the generated text\n",
    "print(\"Generated Text:\\n\", output)\n"
   ],
   "outputs": [
    {
     "name": "stderr",
     "output_type": "stream",
     "text": [
      "Setting `pad_token_id` to `eos_token_id`:0 for open-end generation.\n"
     ]
    },
    {
     "name": "stdout",
     "output_type": "stream",
     "text": [
      "Formatted Prompt:\n",
      " Below is an instruction that describes a task. Write a response that appropriately completes the request.\n",
      "### Instruction:\n",
      "The potential fallacious argument types are:\n",
      "- slippery slope\n",
      "- ad hominem\n",
      "- appeal to (false) authority\n",
      "- X appeal to majority\n",
      "- No fallacy\n",
      "\n",
      "Which one of these 5 fallacious argument types does the following text contain?\n",
      "\"Man, that slope was slippery as hell.\"\n",
      "\n",
      "Before identifying the fallacy, explain your reasoning thoroughly. Your explanation should clarify why the specific fallacy applies to the given statement. This step is crucial!\n",
      "### Response:\n",
      "\n",
      "Generated Text:\n",
      " Below is an instruction that describes a task. Write a response that appropriately completes the request.\n",
      "### Instruction:\n",
      "The potential fallacious argument types are:\n",
      "- slippery slope\n",
      "- ad hominem\n",
      "- appeal to (false) authority\n",
      "- X appeal to majority\n",
      "- No fallacy\n",
      "\n",
      "Which one of these 5 fallacious argument types does the following text contain?\n",
      "\"Man, that slope was slippery as hell.\"\n",
      "\n",
      "Before identifying the fallacy, explain your reasoning thoroughly. Your explanation should clarify why the specific fallacy applies to the given statement. This step is crucial!\n",
      "### Response:\n",
      "The slippery slope fallacy applies to the given statement. The slippery slope fallacy is a logical fallacy that occurs when a specific action is criticized, and the criticizer then suggests that the same action would lead to other, more harmful actions. In this case, the statement \"Man, that slope was slippery as hell\" criticizes the slippery slope fallacy. The criticizer is suggesting that the same action would lead to other, more harmful actions.\n"
     ]
    }
   ],
   "execution_count": 35
  }
 ],
 "metadata": {
  "kernelspec": {
   "display_name": "Python 3 (ipykernel)",
   "language": "python",
   "name": "python3"
  },
  "language_info": {
   "codemirror_mode": {
    "name": "ipython",
    "version": 3
   },
   "file_extension": ".py",
   "mimetype": "text/x-python",
   "name": "python",
   "nbconvert_exporter": "python",
   "pygments_lexer": "ipython3",
   "version": "3.10.13"
  }
 },
 "nbformat": 4,
 "nbformat_minor": 5
}
